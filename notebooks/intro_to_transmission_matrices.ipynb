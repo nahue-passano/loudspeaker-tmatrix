{
 "cells": [
  {
   "cell_type": "markdown",
   "metadata": {},
   "source": [
    "# Introducción a matrices de transmisión"
   ]
  },
  {
   "cell_type": "markdown",
   "metadata": {},
   "source": [
    "### Cuadripolos\n",
    "Las matrices de transmisión surgen a partir de las ecuaciones que caracterízan a los cuadripolos. De forma general, la matriz que caracteriza la transmisión de un cuadripolo se puede definir como:\n",
    "\n",
    "$$\n",
    "    T =\\begin{bmatrix}\n",
    "    t_{11} & t_{12} \\\\\n",
    "    t_{21} & t_{22}\n",
    "    \\end{bmatrix}\n",
    "$$\n",
    "\n",
    "donde cada uno de los valores de la matriz $T$ representa una relación especifica entre la entrada y la salida del cuadripolo.\n",
    "\n",
    "$$\n",
    "    \\begin{align*}\n",
    "        t_{11} &= \\frac{v_{in}}{v_{out}} \\bigg|_{i_{out} = 0} \\hspace{8mm} \\rightarrow \\hspace{8mm} (1 / G_v)\\\\\n",
    "        t_{12} &= \\frac{v_{in}}{i_{out}} \\bigg|_{i_{out} = 0} \\hspace{8mm} \\rightarrow \\hspace{8mm} (1 / G_Y)\\\\\n",
    "        t_{21} &= \\frac{i_{in}}{v_{out}} \\bigg|_{v_{out} = 0} \\hspace{8mm} \\rightarrow \\hspace{8mm} (1 / G_Z)\\\\\n",
    "        t_{22} &= \\frac{i_{in}}{i_{out}} \\bigg|_{v_{out} = 0} \\hspace{8mm} \\rightarrow \\hspace{8mm} (1 / G_i)\\\\\n",
    "    \\end{align*}\n",
    "$$\n",
    "\n",
    "Como se puede ver, hay dos condiciones sobre las cuales se especifican los elementos.\n",
    "- $v_{out} = 0$: Significa que la tensión de salida es nula, por lo que los conectores de salida estan cortocircuitados.\n",
    "- $i_{out} = 0$: Significa que la corriente de salida es nula, por lo que los conectores de salida estan abiertos.\n",
    "\n",
    "Dicha matriz nos dice como obtener las variables de entrada en función de las variables de salida:\n",
    "\n",
    "$$\n",
    "    \\begin{equation*}\n",
    "        \\begin{bmatrix}\n",
    "            v_{in} \\\\\n",
    "            i_{in}\n",
    "        \\end{bmatrix}\n",
    "        =\n",
    "        T \\cdot\n",
    "        \\begin{bmatrix}\n",
    "            v_{out} \\\\\n",
    "            i_{out}\n",
    "        \\end{bmatrix}\n",
    "        =\n",
    "        \\begin{bmatrix}\n",
    "            t_{11} & t_{12} \\\\\n",
    "            t_{21} & t_{22}\n",
    "        \\end{bmatrix}\n",
    "        \\cdot\n",
    "        \\begin{bmatrix}\n",
    "            v_{out} \\\\\n",
    "            i_{out}\n",
    "        \\end{bmatrix}\n",
    "        =\n",
    "        \\begin{bmatrix}\n",
    "            t_{11} \\cdot v_{out} + t_{12} \\cdot i_{out}\\\\\n",
    "            t_{21} \\cdot v_{out} + t_{22} \\cdot i_{out}\n",
    "        \\end{bmatrix}\n",
    "    \\end{equation*}\n",
    "$$\n",
    "\n",
    "\n",
    "Por lo que para obtener los variables de salida en función de las variables de entrada, debemos invertir la matriz de transmisión y aplicarla a las variables de entrada.\n",
    "\n",
    "$$\n",
    "    T^{-1} = \n",
    "    \\frac{1}{\\det(T)} \\cdot\n",
    "    \\begin{bmatrix}\n",
    "        t_{22} & -t_{12} \\\\\n",
    "        -t_{21} & t_{11}\n",
    "    \\end{bmatrix}\n",
    "$$\n",
    "\n",
    "\n",
    "$$\n",
    "    \\begin{bmatrix}\n",
    "        v_{in} \\\\\n",
    "        i_{in}\n",
    "    \\end{bmatrix}\n",
    "    =\n",
    "    T \\cdot\n",
    "    \\begin{bmatrix}\n",
    "        v_{out} \\\\\n",
    "        i_{out}\n",
    "    \\end{bmatrix}\n",
    "\n",
    "    \\hspace{4mm} \\rightarrow \\hspace{4mm}\n",
    "\n",
    "    T^{-1} \\cdot\n",
    "    \\begin{bmatrix}\n",
    "        v_{in} \\\\\n",
    "        i_{in}\n",
    "    \\end{bmatrix}\n",
    "    =\n",
    "    \\begin{bmatrix}\n",
    "        v_{out} \\\\\n",
    "        i_{out}\n",
    "    \\end{bmatrix}\n",
    "    =\n",
    "    \\begin{bmatrix}\n",
    "        t_{22} \\cdot v_{in} - t_{12} \\cdot i_{in}\\\\\n",
    "        -t_{21} \\cdot v_{in} + t_{11} \\cdot i_{in}\n",
    "    \\end{bmatrix}\n",
    "    \\cdot \\frac{1}{\\det(T)}\n",
    "$$"
   ]
  },
  {
   "cell_type": "markdown",
   "metadata": {},
   "source": [
    "### Matrices de transmisión\n",
    "\n",
    "Cada componente que compone un circuito (ya sea eléctrico, mecánico o acústico) tiene su representación a través de un cuadripolo en forma matricial. De forma general, la representación matricial se diferencia si los componentes son de impedancia, admitancia, transformación o giración. (REDACTAR MEJOR ESTA PORQUERIA)\n",
    "\n",
    "**- Matriz de transmisión de una impedancia ($T_Z$)**\n",
    "$$\n",
    "T_Z =\n",
    "\\begin{bmatrix}\n",
    "    1 & Z \\\\\n",
    "    0 & 1\n",
    "\\end{bmatrix}\n",
    "$$\n",
    "\n",
    "**- Matriz de transmisión de una admitancia ($T_Y$)**\n",
    "$$\n",
    "T_Y =\n",
    "\\begin{bmatrix}\n",
    "    1 & 0 \\\\\n",
    "    Y & 1\n",
    "\\end{bmatrix}\n",
    "$$\n",
    "\n",
    "**- Matriz de transmisión de un transformador ($T_T$)**\n",
    "$$\n",
    "T_T =\n",
    "\\begin{bmatrix}\n",
    "    n & 0 \\\\\n",
    "    0 & 1/n\n",
    "\\end{bmatrix}\n",
    "$$\n",
    "\n",
    "**- Matriz de transmisión de un girador ($T_G$)**\n",
    "$$\n",
    "T_G =\n",
    "\\begin{bmatrix}\n",
    "    0 & n \\\\\n",
    "    1/n & 0\n",
    "\\end{bmatrix}\n",
    "$$"
   ]
  },
  {
   "cell_type": "markdown",
   "metadata": {},
   "source": [
    "### Ejemplo: Divisor de tensión\n",
    "\n",
    "Supongamos que vamos a analizar el siguiente divisor resistivo a través de las matrices de transmisión de cada componente para así obtener la transmisión total del sistema.\n",
    "\n",
    "<p align=\"center\">\n",
    "  <img src=\"https://upload.wikimedia.org/wikipedia/commons/d/db/Resistive_divider.png\" alt=\"descripcion\">\n",
    "</p>\n",
    "\n",
    "La idea es obtener una ecuación que relacione las magnitudes de salida (tensión y corriente de salida) en función de las magnitudes de entrada (tensión y corriente de entrada).\n",
    "\n",
    "Primero se deben definir las matrices de ambos elementos. En este caso, $R_1$ está en serie, pero $R_2$ está en paralelo a la salida, por lo que su matriz de transmisión debe ser del tipo admitancia.\n",
    "\n",
    "$$\n",
    "    T_{R_1} =\n",
    "    \\begin{bmatrix}\n",
    "        1 & R_1 \\\\\n",
    "        0 & 1\n",
    "    \\end{bmatrix}\n",
    "$$\n",
    "\n",
    "$$\n",
    "    T_{R_2} =\n",
    "    \\begin{bmatrix}\n",
    "        1 & 0 \\\\\n",
    "        \\frac{1}{R_2} & 1\n",
    "    \\end{bmatrix}\n",
    "$$\n",
    "\n",
    "Realizando la multiplicación sucesiva de matrices de transmisión, la transferencia total será:\n",
    "\n",
    "$$\n",
    "    T = T_{R_1} \\cdot T_{R_2} = \n",
    "    \\begin{bmatrix}\n",
    "        1 & R_1 \\\\\n",
    "        0 & 1\n",
    "    \\end{bmatrix}\n",
    "    \\cdot\n",
    "    \\begin{bmatrix}\n",
    "        1 & 0 \\\\\n",
    "        \\frac{1}{R_2} & 1\n",
    "    \\end{bmatrix}\n",
    "    =\n",
    "    \\begin{bmatrix}\n",
    "        1 + \\frac{R_1}{R_2} & R_1 \\\\\n",
    "        \\frac{1}{R_2} & 1\n",
    "    \\end{bmatrix}\n",
    "$$\n",
    "\n",
    "Recordando las ecuaciones descritas anteriormente, la relación entre las magnitudes de entrada y salida queda:\n",
    "\n",
    "$$\n",
    "    \\begin{equation*}\n",
    "        \\begin{bmatrix}\n",
    "            v_{in} \\\\\n",
    "            i_{in}\n",
    "        \\end{bmatrix}\n",
    "        =\n",
    "        T \\cdot\n",
    "        \\begin{bmatrix}\n",
    "            v_{out} \\\\\n",
    "            i_{out}\n",
    "        \\end{bmatrix}\n",
    "        =\n",
    "        \\begin{bmatrix}\n",
    "          1 + \\frac{R_1}{R_2} & R_1 \\\\\n",
    "          \\frac{1}{R_2} & 1\n",
    "        \\end{bmatrix}\n",
    "        \\cdot\n",
    "        \\begin{bmatrix}\n",
    "            v_{out} \\\\\n",
    "            i_{out}\n",
    "        \\end{bmatrix}\n",
    "        =\n",
    "        \\begin{bmatrix}\n",
    "            (1 + \\frac{R_1}{R_2}) \\cdot v_{out} + R_{1} \\cdot i_{out}\\\\\n",
    "            \\frac{1}{R_2} \\cdot v_{out} + i_{out}\n",
    "        \\end{bmatrix}\n",
    "    \\end{equation*}\n",
    "$$\n",
    "\n",
    "Pero lo que nos importa en la mayoría de los casos, es obtener las magnitudes de salida en función de las de entrada, por lo que:\n",
    "\n",
    "$$\n",
    "    T^{-1} = \n",
    "    \\begin{bmatrix}\n",
    "        1 & -R_1 \\\\\n",
    "        -\\frac{1}{R_2} & 1 + \\frac{R_1}{R_2}\n",
    "    \\end{bmatrix}\n",
    "    \\cdot \\underbrace{\\det(T)}_{=1} =\n",
    "    \\begin{bmatrix}\n",
    "        1 & -R_1 \\\\\n",
    "        -\\frac{1}{R_2} & 1 + \\frac{R_1}{R_2}\n",
    "    \\end{bmatrix}\n",
    "$$\n",
    "\n",
    "Ahora si podemos obtener la tensión y corriente de salida en función de la tensión y corriente de entrada.\n",
    "\n",
    "$$\n",
    "    T^{-1} \\cdot\n",
    "    \\begin{bmatrix}\n",
    "        v_{in} \\\\\n",
    "        i_{in}\n",
    "    \\end{bmatrix}\n",
    "    =\n",
    "    \\begin{bmatrix}\n",
    "        1 & -R_1 \\\\\n",
    "        -\\frac{1}{R_2} & 1 + \\frac{R_1}{R_2}\n",
    "    \\end{bmatrix}\n",
    "    \\cdot\n",
    "    \\begin{bmatrix}\n",
    "        v_{in} \\\\\n",
    "        i_{in}\n",
    "    \\end{bmatrix}\n",
    "    =\n",
    "    \\begin{bmatrix}\n",
    "        v_{out} \\\\\n",
    "        i_{out}\n",
    "    \\end{bmatrix}\n",
    "    =\n",
    "    \\begin{bmatrix}\n",
    "        v_{in} - R_{1} \\cdot i_{in}\\\\\n",
    "        -\\frac{1}{R_2} \\cdot v_{in} + (1 + \\frac{R_1}{R_2}) \\cdot i_{in}\n",
    "    \\end{bmatrix}\n",
    "$$\n",
    "\n",
    "$$\n",
    "    \\begin{align*}\n",
    "        v_{out} = v_{in} - R_{1} \\cdot i_{in} = v_{in} - v_{R_1} \\\\\n",
    "        i_{out} = \\frac{1}{R_2} \\Big ( -v_{in} + R_1 i_{in} + R_2 i_{in}\\Big)\n",
    "    \\end{align*}\n",
    "$$"
   ]
  },
  {
   "cell_type": "markdown",
   "metadata": {},
   "source": [
    "En Python todo este cálculo se puede hacer de forma simbólica con la libraría sympy"
   ]
  },
  {
   "cell_type": "code",
   "execution_count": 44,
   "metadata": {},
   "outputs": [],
   "source": [
    "import sympy as sp\n",
    "\n",
    "R1, R2 = sp.symbols('R1 R2')\n",
    "\n",
    "R1_tmatrix = sp.Matrix(\n",
    "    [[1, R1],\n",
    "     [0, 1]]\n",
    "    )\n",
    "R2_tmatrix = sp.Matrix(\n",
    "    [[1, 0],\n",
    "     [1/R2, 1]]\n",
    "    )"
   ]
  },
  {
   "cell_type": "code",
   "execution_count": 48,
   "metadata": {},
   "outputs": [
    {
     "name": "stdout",
     "output_type": "stream",
     "text": [
      "Matriz de transmisión T\n"
     ]
    },
    {
     "data": {
      "text/latex": [
       "$\\displaystyle \\left[\\begin{matrix}\\frac{R_{1}}{R_{2}} + 1 & R_{1}\\\\\\frac{1}{R_{2}} & 1\\end{matrix}\\right]$"
      ],
      "text/plain": [
       "Matrix([\n",
       "[R1/R2 + 1, R1],\n",
       "[     1/R2,  1]])"
      ]
     },
     "metadata": {},
     "output_type": "display_data"
    },
    {
     "name": "stdout",
     "output_type": "stream",
     "text": [
      "Matriz de transmisión inversa T^{-1}\n"
     ]
    },
    {
     "data": {
      "text/latex": [
       "$\\displaystyle \\left[\\begin{matrix}1 & - R_{1}\\\\- \\frac{1}{R_{2}} & \\frac{R_{1}}{R_{2}} + 1\\end{matrix}\\right]$"
      ],
      "text/plain": [
       "Matrix([\n",
       "[    1,       -R1],\n",
       "[-1/R2, R1/R2 + 1]])"
      ]
     },
     "metadata": {},
     "output_type": "display_data"
    },
    {
     "name": "stdout",
     "output_type": "stream",
     "text": [
      "Ganancia de tensión\n"
     ]
    },
    {
     "data": {
      "text/latex": [
       "$\\displaystyle \\frac{R_{2}}{R_{1} + R_{2}}$"
      ],
      "text/plain": [
       "R2/(R1 + R2)"
      ]
     },
     "metadata": {},
     "output_type": "display_data"
    }
   ],
   "source": [
    "total_tmatrix = R1_tmatrix * R2_tmatrix\n",
    "\n",
    "print(\"Matriz de transmisión T\")\n",
    "display(total_tmatrix)\n",
    "\n",
    "print(\"Matriz de transmisión inversa T^{-1}\")\n",
    "inverse_total_tmatrix = total_tmatrix.inv()\n",
    "display(inverse_total_tmatrix)\n",
    "\n",
    "print(\"Ganancia de tensión\")\n",
    "display(sp.simplify(1/total_tmatrix[0,0]))"
   ]
  },
  {
   "cell_type": "markdown",
   "metadata": {},
   "source": [
    "Multiplicando la matriz de transmisión inversa por las magnitudes de entrada queda:"
   ]
  },
  {
   "cell_type": "code",
   "execution_count": 46,
   "metadata": {},
   "outputs": [
    {
     "data": {
      "text/latex": [
       "$\\displaystyle \\left[\\begin{matrix}- R_{1} i_{in} + v_{in}\\\\i_{in} \\left(\\frac{R_{1}}{R_{2}} + 1\\right) - \\frac{v_{in}}{R_{2}}\\end{matrix}\\right]$"
      ],
      "text/plain": [
       "Matrix([\n",
       "[           -R1*i_in + v_in],\n",
       "[i_in*(R1/R2 + 1) - v_in/R2]])"
      ]
     },
     "execution_count": 46,
     "metadata": {},
     "output_type": "execute_result"
    }
   ],
   "source": [
    "v_in, i_in = sp.symbols('v_in i_in')\n",
    "\n",
    "inverse_total_tmatrix * sp.Matrix([v_in, i_in])"
   ]
  },
  {
   "cell_type": "markdown",
   "metadata": {},
   "source": [
    "### Ejemplo: Filtro pasabanda\n",
    "\n",
    "<p align=\"center\">\n",
    "  <img src=\"https://www.researchgate.net/profile/Jonathan-Estevez-Fernandez/publication/312549075/figure/fig3/AS:452414026326019@1484875317721/Figura-5-Filtro-pasa-banda.png\" alt=\"descripcion\">\n",
    "</p>\n"
   ]
  },
  {
   "cell_type": "code",
   "execution_count": 36,
   "metadata": {},
   "outputs": [],
   "source": [
    "import sympy as sp\n",
    "\n",
    "X_C1, R1, R2, X_C2 = sp.symbols('X_C1 R1 R2 X_C2')\n",
    "\n",
    "X_C1_tmatrix = sp.Matrix(\n",
    "    [[1, X_C1],\n",
    "    [0, 1]]\n",
    ")\n",
    "\n",
    "R1_tmatrix = sp.Matrix(\n",
    "    [[1, 0],\n",
    "     [1/R1, 1]]\n",
    "    )\n",
    "\n",
    "R2_tmatrix = sp.Matrix(\n",
    "    [[1, R2],\n",
    "     [0, 1]]\n",
    "    )\n",
    "\n",
    "X_C2_tmatrix = sp.Matrix(\n",
    "    [[1, 0],\n",
    "    [1/X_C2, 1]]\n",
    ")"
   ]
  },
  {
   "cell_type": "code",
   "execution_count": 49,
   "metadata": {},
   "outputs": [
    {
     "name": "stdout",
     "output_type": "stream",
     "text": [
      "Matriz de transmisión T\n"
     ]
    },
    {
     "data": {
      "text/latex": [
       "$\\displaystyle \\left[\\begin{matrix}1 + \\frac{R_{1} + X_{C1}}{X_{C2}} + \\frac{R_{1} + X_{C1}}{R_{2}} & R_{1} + X_{C1}\\\\\\frac{1}{X_{C2}} + \\frac{1}{R_{2}} & 1\\end{matrix}\\right]$"
      ],
      "text/plain": [
       "Matrix([\n",
       "[1 + (R1 + X_C1)/X_C2 + (R1 + X_C1)/R2, R1 + X_C1],\n",
       "[                        1/X_C2 + 1/R2,         1]])"
      ]
     },
     "metadata": {},
     "output_type": "display_data"
    },
    {
     "name": "stdout",
     "output_type": "stream",
     "text": [
      "Matriz de transmisión inversa T^{-1}\n"
     ]
    },
    {
     "data": {
      "text/latex": [
       "$\\displaystyle \\left[\\begin{matrix}1 & - R_{1} - X_{C1}\\\\- \\frac{1}{X_{C2}} - \\frac{1}{R_{2}} & \\frac{R_{1} R_{2} + R_{1} X_{C2} + R_{2} X_{C1} + R_{2} X_{C2} + X_{C1} X_{C2}}{R_{2} X_{C2}}\\end{matrix}\\right]$"
      ],
      "text/plain": [
       "Matrix([\n",
       "[             1,                                                  -R1 - X_C1],\n",
       "[-1/X_C2 - 1/R2, (R1*R2 + R1*X_C2 + R2*X_C1 + R2*X_C2 + X_C1*X_C2)/(R2*X_C2)]])"
      ]
     },
     "metadata": {},
     "output_type": "display_data"
    },
    {
     "name": "stdout",
     "output_type": "stream",
     "text": [
      "Ganancia de tensión\n"
     ]
    },
    {
     "data": {
      "text/latex": [
       "$\\displaystyle \\frac{R_{2} X_{C2}}{R_{2} X_{C2} + R_{2} \\left(R_{1} + X_{C1}\\right) + X_{C2} \\left(R_{1} + X_{C1}\\right)}$"
      ],
      "text/plain": [
       "R2*X_C2/(R2*X_C2 + R2*(R1 + X_C1) + X_C2*(R1 + X_C1))"
      ]
     },
     "metadata": {},
     "output_type": "display_data"
    }
   ],
   "source": [
    "total_tmatrix = X_C1_tmatrix * R1_tmatrix * R2_tmatrix * X_C2_tmatrix\n",
    "\n",
    "print(\"Matriz de transmisión T\")\n",
    "display(total_tmatrix)\n",
    "\n",
    "print(\"Matriz de transmisión inversa T^{-1}\")\n",
    "inverse_total_tmatrix = total_tmatrix.inv()\n",
    "display(inverse_total_tmatrix)\n",
    "\n",
    "print(\"Ganancia de tensión\")\n",
    "display(sp.simplify(1/total_tmatrix[0,0]))"
   ]
  },
  {
   "cell_type": "code",
   "execution_count": 50,
   "metadata": {},
   "outputs": [],
   "source": [
    "R1_value = 3100\n",
    "C1_value = 100e-9\n",
    "C2_value = 1e-9\n",
    "R2_value = 100_000\n",
    "\n",
    "freq_min = 10\n",
    "freq_max = 10_000\n",
    "freq_bins = 2000\n",
    "\n",
    "freq_array = np.logspace(np.log10(freq_min), np.log10(freq_max), num=freq_bins)\n",
    "angular_freq_array = 2 * np.pi * freq_array\n",
    "\n",
    "X_C1_array = 1/(1j*C1_value*freq_array) \n",
    "R1_array = np.ones(freq_bins)*R1_value\n",
    "R2_array = np.ones(freq_bins)*R2_value\n",
    "X_C2_array = 1/(1j*C2_value*freq_array)"
   ]
  },
  {
   "cell_type": "code",
   "execution_count": 51,
   "metadata": {},
   "outputs": [],
   "source": [
    "voltage_gain = 1/total_tmatrix[0,0]\n",
    "voltage_gain_array = np.zeros(freq_bins, dtype=\"complex\")\n",
    "\n",
    "for i in range(freq_bins):\n",
    "    voltage_gain_i = voltage_gain.subs(\n",
    "        {\n",
    "            R1: R1_array[i],\n",
    "            X_C1: X_C1_array[i],\n",
    "            X_C2: X_C2_array[i],\n",
    "            R2: R2_array[i],\n",
    "            \n",
    "        }\n",
    "    )\n",
    "    voltage_gain_array[i] = voltage_gain_i\n"
   ]
  },
  {
   "cell_type": "code",
   "execution_count": 52,
   "metadata": {},
   "outputs": [
    {
     "data": {
      "text/plain": [
       "[<matplotlib.lines.Line2D at 0x71ee73a08550>]"
      ]
     },
     "execution_count": 52,
     "metadata": {},
     "output_type": "execute_result"
    },
    {
     "data": {
      "image/png": "[encoded data removed]",
      "text/plain": [
       "<Figure size 640x480 with 1 Axes>"
      ]
     },
     "metadata": {},
     "output_type": "display_data"
    }
   ],
   "source": [
    "from matplotlib import pyplot as plt\n",
    "\n",
    "plt.plot(freq_array, np.abs(voltage_gain_array))\n"
   ]
  },
  {
   "cell_type": "markdown",
   "metadata": {},
   "source": [
    "---"
   ]
  },
  {
   "cell_type": "code",
   "execution_count": 76,
   "metadata": {},
   "outputs": [],
   "source": [
    "import sympy as sp\n",
    "\n",
    "X_L, X_C, R = sp.symbols('X_L X_C R')\n",
    "\n",
    "X_L_tmatrix = sp.Matrix(\n",
    "    [[1, X_L],\n",
    "    [0, 1]]\n",
    ")\n",
    "\n",
    "X_C_tmatrix = sp.Matrix(\n",
    "    [[1, X_C],\n",
    "     [0, 1]]\n",
    "    )\n",
    "\n",
    "R_tmatrix = sp.Matrix(\n",
    "    [[1, 0],\n",
    "     [1/R, 1]]\n",
    "    )"
   ]
  },
  {
   "cell_type": "code",
   "execution_count": 77,
   "metadata": {},
   "outputs": [
    {
     "name": "stdout",
     "output_type": "stream",
     "text": [
      "Matriz de transmisión T\n"
     ]
    },
    {
     "data": {
      "text/latex": [
       "$\\displaystyle \\left[\\begin{matrix}1 + \\frac{X_{C} + X_{L}}{R} & X_{C} + X_{L}\\\\\\frac{1}{R} & 1\\end{matrix}\\right]$"
      ],
      "text/plain": [
       "Matrix([\n",
       "[1 + (X_C + X_L)/R, X_C + X_L],\n",
       "[              1/R,         1]])"
      ]
     },
     "metadata": {},
     "output_type": "display_data"
    },
    {
     "name": "stdout",
     "output_type": "stream",
     "text": [
      "Matriz de transmisión inversa T^{-1}\n"
     ]
    },
    {
     "data": {
      "text/latex": [
       "$\\displaystyle \\left[\\begin{matrix}1 & - X_{C} - X_{L}\\\\- \\frac{1}{R} & 1 + \\frac{X_{C}}{R} + \\frac{X_{L}}{R}\\end{matrix}\\right]$"
      ],
      "text/plain": [
       "Matrix([\n",
       "[   1,        -X_C - X_L],\n",
       "[-1/R, 1 + X_C/R + X_L/R]])"
      ]
     },
     "metadata": {},
     "output_type": "display_data"
    },
    {
     "name": "stdout",
     "output_type": "stream",
     "text": [
      "Ganancia de tensión\n"
     ]
    },
    {
     "data": {
      "text/latex": [
       "$\\displaystyle \\frac{R}{R + X_{C} + X_{L}}$"
      ],
      "text/plain": [
       "R/(R + X_C + X_L)"
      ]
     },
     "metadata": {},
     "output_type": "display_data"
    }
   ],
   "source": [
    "total_tmatrix = X_L_tmatrix * X_C_tmatrix * R_tmatrix\n",
    "\n",
    "print(\"Matriz de transmisión T\")\n",
    "display(total_tmatrix)\n",
    "\n",
    "print(\"Matriz de transmisión inversa T^{-1}\")\n",
    "inverse_total_tmatrix = total_tmatrix.inv()\n",
    "display(inverse_total_tmatrix)\n",
    "\n",
    "print(\"Ganancia de tensión\")\n",
    "display(sp.simplify(1/total_tmatrix[0,0]))"
   ]
  },
  {
   "cell_type": "code",
   "execution_count": 113,
   "metadata": {},
   "outputs": [],
   "source": [
    "R_value = 100\n",
    "L_value = 0.1e-6\n",
    "C_value = 100e-6\n",
    "\n",
    "freq_min = 10\n",
    "freq_max = 10000\n",
    "freq_bins = 2000\n",
    "\n",
    "freq_array = np.logspace(np.log10(freq_min), np.log10(freq_max), num=freq_bins)\n",
    "angular_freq_array = 2 * np.pi * freq_array\n",
    "\n",
    "X_C_array = 1/(1j*C_value*angular_freq_array) \n",
    "X_L_array = 1j*angular_freq_array*L_value\n",
    "R_array = np.ones(freq_bins)*R_value"
   ]
  },
  {
   "cell_type": "code",
   "execution_count": 114,
   "metadata": {},
   "outputs": [],
   "source": [
    "voltage_gain = 1/total_tmatrix[0,0]\n",
    "voltage_gain_array = np.zeros(freq_bins, dtype=\"complex\")\n",
    "\n",
    "for i in range(freq_bins):\n",
    "    voltage_gain_i = voltage_gain.subs(\n",
    "        {\n",
    "            X_L: X_L_array[i],\n",
    "            X_C: X_C_array[i],\n",
    "            R: R_array[i],\n",
    "        }\n",
    "    )\n",
    "    voltage_gain_array[i] = voltage_gain_i"
   ]
  },
  {
   "cell_type": "code",
   "execution_count": 115,
   "metadata": {},
   "outputs": [
    {
     "data": {
      "text/plain": [
       "array([0.53201806, 0.53333649, 0.53465558, ..., 0.99999881, 0.99999882,\n",
       "       0.99999883])"
      ]
     },
     "execution_count": 115,
     "metadata": {},
     "output_type": "execute_result"
    }
   ],
   "source": [
    "np.abs(voltage_gain_array)"
   ]
  },
  {
   "cell_type": "code",
   "execution_count": 116,
   "metadata": {},
   "outputs": [
    {
     "data": {
      "image/png": "[encoded data removed]",
      "text/plain": [
       "<Figure size 640x480 with 1 Axes>"
      ]
     },
     "metadata": {},
     "output_type": "display_data"
    }
   ],
   "source": [
    "plt.plot(freq_array, np.abs(voltage_gain_array))\n",
    "plt.xscale('log') \n",
    "plt.show()"
   ]
  },
  {
   "cell_type": "code",
   "execution_count": 1,
   "metadata": {},
   "outputs": [],
   "source": [
    "import sympy as sp\n",
    "\n",
    "Z1, Z2, Z3 = sp.symbols('Z1 Z2 Z3')\n",
    "\n",
    "Z1_tmatrix = sp.Matrix(\n",
    "    [[1, Z1],\n",
    "    [0, 1]]\n",
    ")\n",
    "\n",
    "Z2_tmatrix = sp.Matrix(\n",
    "    [[1, Z2],\n",
    "     [0, 1]]\n",
    "    )\n",
    "\n",
    "Z3_tmatrix = sp.Matrix(\n",
    "    [[1, 0],\n",
    "     [1/Z3, 1]]\n",
    "    )"
   ]
  },
  {
   "cell_type": "code",
   "execution_count": 5,
   "metadata": {},
   "outputs": [
    {
     "data": {
      "text/latex": [
       "$\\displaystyle \\left[\\begin{matrix}\\frac{Z_{1}}{Z_{3}} + 1 & Z_{1} + Z_{2} \\left(\\frac{Z_{1}}{Z_{3}} + 1\\right)\\\\\\frac{1}{Z_{3}} & \\frac{Z_{2}}{Z_{3}} + 1\\end{matrix}\\right]$"
      ],
      "text/plain": [
       "Matrix([\n",
       "[Z1/Z3 + 1, Z1 + Z2*(Z1/Z3 + 1)],\n",
       "[     1/Z3,           Z2/Z3 + 1]])"
      ]
     },
     "execution_count": 5,
     "metadata": {},
     "output_type": "execute_result"
    }
   ],
   "source": [
    "Z1_tmatrix*Z3_tmatrix*Z2_tmatrix"
   ]
  }
 ],
 "metadata": {
  "kernelspec": {
   "display_name": ".venv",
   "language": "python",
   "name": "python3"
  },
  "language_info": {
   "codemirror_mode": {
    "name": "ipython",
    "version": 3
   },
   "file_extension": ".py",
   "mimetype": "text/x-python",
   "name": "python",
   "nbconvert_exporter": "python",
   "pygments_lexer": "ipython3",
   "version": "3.9.16"
  }
 },
 "nbformat": 4,
 "nbformat_minor": 2
}
